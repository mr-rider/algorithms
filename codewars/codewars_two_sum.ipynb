{
  "nbformat": 4,
  "nbformat_minor": 0,
  "metadata": {
    "colab": {
      "name": "codewars_two_sum.ipynb",
      "provenance": [],
      "collapsed_sections": []
    },
    "kernelspec": {
      "name": "python3",
      "display_name": "Python 3"
    },
    "language_info": {
      "name": "python"
    }
  },
  "cells": [
    {
      "cell_type": "markdown",
      "metadata": {
        "id": "09fyu2jRWo-s"
      },
      "source": [
        "Write a function that takes an array of numbers (integers for the tests) and a target number. It should find two different items in the array that, when added together, give the target value. The indices of these items should then be returned in a tuple like so: (index1, index2).\n",
        "\n",
        "For the purposes of this kata, some tests may have multiple answers; any valid solutions will be accepted.\n",
        "\n",
        "The input will always be valid (numbers will be an array of length 2 or greater, and all of the items will be numbers; target will always be the sum of two different items from that array).\n",
        "\n",
        "Based on: http://oj.leetcode.com/problems/two-sum/\n",
        "\n",
        "twoSum [1, 2, 3] 4 === (0, 2)"
      ]
    },
    {
      "cell_type": "code",
      "metadata": {
        "id": "wIHkQobDWLW_"
      },
      "source": [
        "def two_sum(numbers, target):\n",
        "    # start coding!\n",
        "    for index, number in enumerate(numbers):\n",
        "      for next_index,next_number in enumerate(numbers):\n",
        "        if index != next_index and target == number + next_number:\n",
        "          result=[index, next_index]\n",
        "          return result         \n",
        "   \n",
        "    "
      ],
      "execution_count": 23,
      "outputs": []
    },
    {
      "cell_type": "code",
      "metadata": {
        "colab": {
          "base_uri": "https://localhost:8080/"
        },
        "id": "SOqqlHfkfESZ",
        "outputId": "b320cd0e-fb41-4e71-9d97-3cb309caf957"
      },
      "source": [
        "two_sum(numbers, target)"
      ],
      "execution_count": 24,
      "outputs": [
        {
          "output_type": "execute_result",
          "data": {
            "text/plain": [
              "[0, 2]"
            ]
          },
          "metadata": {},
          "execution_count": 24
        }
      ]
    }
  ]
}