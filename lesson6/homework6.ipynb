{
 "cells": [
  {
   "cell_type": "markdown",
   "metadata": {},
   "source": [
    "## 1.Для реализованной в методичке модели градиентного бустинга построить графики зависимости ошибки от количества деревьев в ансамбле и от максимальной глубины деревьев. Сделать выводы о зависимости ошибки от этих параметров."
   ]
  },
  {
   "cell_type": "code",
   "execution_count": 1,
   "metadata": {},
   "outputs": [
    {
     "name": "stderr",
     "output_type": "stream",
     "text": [
      "/home/mr-rider/snap/jupyter/common/lib/python3.7/site-packages/joblib/_multiprocessing_helpers.py:45: UserWarning: [Errno 13] Permission denied.  joblib will operate in serial mode\n",
      "  warnings.warn('%s.  joblib will operate in serial mode' % (e,))\n"
     ]
    }
   ],
   "source": [
    "from sklearn.tree import DecisionTreeRegressor\n",
    "\n",
    "from sklearn import model_selection\n",
    "import numpy as np"
   ]
  },
  {
   "cell_type": "code",
   "execution_count": 2,
   "metadata": {},
   "outputs": [],
   "source": [
    "from sklearn.datasets import load_diabetes"
   ]
  },
  {
   "cell_type": "code",
   "execution_count": 3,
   "metadata": {},
   "outputs": [
    {
     "data": {
      "text/plain": [
       "((442, 10), (442,))"
      ]
     },
     "execution_count": 3,
     "metadata": {},
     "output_type": "execute_result"
    }
   ],
   "source": [
    "X, y = load_diabetes(return_X_y=True)\n",
    "X.shape, y.shape"
   ]
  },
  {
   "cell_type": "code",
   "execution_count": 4,
   "metadata": {},
   "outputs": [],
   "source": [
    "# Разделим выборку на обучающую и тестовую в соотношении 75/25.\n",
    "X_train, X_test, y_train, y_test = model_selection.train_test_split(X, y, test_size=0.25, random_state=42)"
   ]
  },
  {
   "cell_type": "code",
   "execution_count": 5,
   "metadata": {},
   "outputs": [],
   "source": [
    "# Напишем функцию, реализующую предсказание в градиентном бустинге.\n",
    "def gb_predict(X, trees_list, coef_list, eta):\n",
    "    # Реализуемый алгоритм градиентного бустинга будет инициализироваться нулевыми значениями,\n",
    "    # поэтому все деревья из списка trees_list уже являются дополнительными и при предсказании \n",
    "    # прибавляются с шагом eta\n",
    "    return np.array([sum([\n",
    "        eta * coef * alg.predict([x])[0] for alg, coef in zip(trees_list, coef_list)]) \n",
    "                     for x in X])"
   ]
  },
  {
   "cell_type": "code",
   "execution_count": 6,
   "metadata": {},
   "outputs": [],
   "source": [
    "# В качестве функционала ошибки будем использовать среднеквадратичную ошибку. Реализуем соответствующую функцию.\n",
    "def mean_squared_error(y_real, prediction):\n",
    "    return (sum((y_real - prediction) ** 2)) / len(y_real)"
   ]
  },
  {
   "cell_type": "code",
   "execution_count": 7,
   "metadata": {},
   "outputs": [],
   "source": [
    "# Используем 𝐿2 loss 𝐿(𝑦,𝑧)=(𝑦−𝑧)2, ее производная по 𝑧 примет вид 𝐿′(𝑦,𝑧)=2(𝑧−𝑦). Реализуем ее также в виде функции.\n",
    "def bias(z, y):\n",
    "    return 2 * (z - y)"
   ]
  },
  {
   "cell_type": "code",
   "execution_count": 8,
   "metadata": {},
   "outputs": [],
   "source": [
    "# Реализуем функцию обучения градиентного бустинга.\n",
    "def gb_fit(n_trees, max_depth, X_train, X_test, y_train, y_test, coefs, eta):\n",
    "    \n",
    "    # eta - скорость обучения\n",
    "    # Деревья будем записывать в список\n",
    "    trees = []\n",
    "    \n",
    "    # Будем записывать ошибки на обучающей и тестовой выборке на каждой итерации в список\n",
    "    train_errors = []\n",
    "    test_errors = []\n",
    "    \n",
    "    for i in range(n_trees):\n",
    "        tree = DecisionTreeRegressor(max_depth=max_depth, random_state=42)\n",
    "\n",
    "        # инициализируем бустинг начальным алгоритмом, возвращающим ноль, \n",
    "        # поэтому первый алгоритм просто обучаем на выборке и добавляем в список\n",
    "        if len(trees) == 0:\n",
    "            # обучаем первое дерево на обучающей выборке\n",
    "            tree.fit(X_train, y_train)\n",
    "            \n",
    "            train_errors.append(mean_squared_error(y_train, gb_predict(X_train, trees, coefs, eta)))\n",
    "            test_errors.append(mean_squared_error(y_test, gb_predict(X_test, trees, coefs, eta)))\n",
    "        else:\n",
    "            # Получим ответы на текущей композиции\n",
    "            target = gb_predict(X_train, trees, coefs, eta)\n",
    "            \n",
    "            # алгоритмы начиная со второго обучаем на сдвиг\n",
    "            tree.fit(X_train, bias(y_train, target))\n",
    "            \n",
    "            train_errors.append(mean_squared_error(y_train, gb_predict(X_train, trees, coefs, eta)))\n",
    "            test_errors.append(mean_squared_error(y_test, gb_predict(X_test, trees, coefs, eta)))\n",
    "\n",
    "        trees.append(tree)\n",
    "        \n",
    "    return trees, train_errors, test_errors"
   ]
  },
  {
   "cell_type": "code",
   "execution_count": 9,
   "metadata": {},
   "outputs": [],
   "source": [
    "# Число деревьев в ансамбле\n",
    "n_trees = 10\n",
    "\n",
    "# для простоты примем коэффициенты равными 1\n",
    "coefs = [1] * n_trees\n",
    "\n",
    "# Максимальная глубина деревьев\n",
    "max_depth = 3\n",
    "\n",
    "# Шаг\n",
    "eta = 0.5\n",
    "\n",
    "trees, train_errors, test_errors = gb_fit(n_trees, max_depth, X_train, X_test, y_train, y_test, coefs, eta)"
   ]
  },
  {
   "cell_type": "code",
   "execution_count": 10,
   "metadata": {},
   "outputs": [],
   "source": [
    "def evaluate_alg(X_train, X_test, y_train, y_test, trees, coefs, eta):\n",
    "    train_prediction = gb_predict(X_train, trees, coefs, eta)\n",
    "    \n",
    "    err_train_mse = round(mean_squared_error(y_train, train_prediction))\n",
    "    #print(f'Ошибка алгоритма из {n_trees} деревьев глубиной {max_depth} \\\n",
    "    #с шагом {eta} на тренировочной выборке: {err_train_mse}')\n",
    "\n",
    "    test_prediction = gb_predict(X_test, trees, coefs, eta)\n",
    "    \n",
    "    err_test_mse = round(mean_squared_error(y_test, test_prediction))\n",
    "    #print(f'Ошибка алгоритма из {n_trees} деревьев глубиной {max_depth} \\\n",
    "    #с шагом {eta} на тестовой выборке: {err_test_mse}')\n",
    "    return err_train_mse, err_test_mse"
   ]
  },
  {
   "cell_type": "code",
   "execution_count": 11,
   "metadata": {},
   "outputs": [
    {
     "data": {
      "text/plain": [
       "(1095, 4845)"
      ]
     },
     "execution_count": 11,
     "metadata": {},
     "output_type": "execute_result"
    }
   ],
   "source": [
    "evaluate_alg(X_train, X_test, y_train, y_test, trees, coefs, eta)"
   ]
  },
  {
   "cell_type": "code",
   "execution_count": 12,
   "metadata": {},
   "outputs": [
    {
     "name": "stdout",
     "output_type": "stream",
     "text": [
      "Number of trees: 3, error train: 1077, err_test: 3698 \n",
      "Number of trees: 8, error train: 290, err_test: 5557 \n",
      "Number of trees: 13, error train: 80, err_test: 6128 \n",
      "Number of trees: 18, error train: 17, err_test: 5952 \n",
      "Number of trees: 23, error train: 4, err_test: 5919 \n",
      "Number of trees: 28, error train: 1, err_test: 5974 \n",
      "Number of trees: 33, error train: 0, err_test: 5956 \n",
      "Number of trees: 38, error train: 0, err_test: 5957 \n",
      "Number of trees: 43, error train: 0, err_test: 5956 \n",
      "Number of trees: 48, error train: 0, err_test: 5955 \n"
     ]
    }
   ],
   "source": [
    "# Зависимость mse от количества деревьев\n",
    "n_trees_list =[]\n",
    "err_train_list = []\n",
    "err_test_list = []\n",
    "max_depth = 5\n",
    "# Шаг\n",
    "eta = 0.5\n",
    "for n_trees in range(3, 50, 5):\n",
    "    # для простоты примем коэффициенты равными 1\n",
    "    coefs = [1] * n_trees\n",
    "    trees, train_errors, test_errors = gb_fit(n_trees, max_depth, X_train, X_test, y_train, y_test, coefs, eta)\n",
    "    err_train, err_test = evaluate_alg(X_train, X_test, y_train, y_test, trees, coefs, eta)\n",
    "    print(f'Number of trees: {n_trees}, error train: {err_train}, err_test: {err_test} ')\n",
    "    err_train_list.append(err_train)\n",
    "    err_test_list.append(err_test)\n",
    "    n_trees_list.append(n_trees)\n",
    "    \n",
    "    \n",
    "\n",
    "\n",
    "    "
   ]
  },
  {
   "cell_type": "code",
   "execution_count": 13,
   "metadata": {},
   "outputs": [],
   "source": [
    "import matplotlib.pyplot as plt"
   ]
  },
  {
   "cell_type": "code",
   "execution_count": 18,
   "metadata": {},
   "outputs": [],
   "source": [
    "def get_error_plot(n_trees_list, err_train_list, err_test_list):\n",
    "    plt.xlabel('Number of trees')\n",
    "    plt.ylabel('MSE error')\n",
    "    plt.xlim(0, 50)\n",
    "    #plt.ylim(0, )\n",
    "    plt.plot(n_trees_list, err_train_list, label='train error')\n",
    "    plt.plot(n_trees_list, err_test_list, label='test error')\n",
    "    plt.legend(loc='upper right')\n",
    "    plt.show()"
   ]
  },
  {
   "cell_type": "code",
   "execution_count": 19,
   "metadata": {},
   "outputs": [
    {
     "data": {
      "image/png": "[encoded data removed]",
      "text/plain": [
       "<Figure size 432x288 with 1 Axes>"
      ]
     },
     "metadata": {
      "needs_background": "light"
     },
     "output_type": "display_data"
    }
   ],
   "source": [
    "get_error_plot(n_trees_list, err_train_list, err_test_list)"
   ]
  },
  {
   "cell_type": "markdown",
   "metadata": {},
   "source": [
    "### Вывод: при увеличении количества деревьев ошибка на трейне падает и стабилизируется при достижении 15 деревьев.  А на тесте ошибка растет и стабилизируется при 15 деревьях. Возникает переобучение модели."
   ]
  },
  {
   "cell_type": "code",
   "execution_count": 26,
   "metadata": {},
   "outputs": [
    {
     "name": "stdout",
     "output_type": "stream",
     "text": [
      "Max_depth: 1, error train: 3312, err_test: 3002 \n",
      "Max_depth: 2, error train: 2815, err_test: 3324 \n",
      "Max_depth: 3, error train: 2089, err_test: 3563 \n",
      "Max_depth: 4, error train: 1559, err_test: 4126 \n",
      "Max_depth: 5, error train: 1077, err_test: 3698 \n",
      "Max_depth: 6, error train: 468, err_test: 4701 \n",
      "Max_depth: 7, error train: 388, err_test: 4448 \n",
      "Max_depth: 8, error train: 61, err_test: 6046 \n",
      "Max_depth: 9, error train: 37, err_test: 4818 \n",
      "Max_depth: 10, error train: 3, err_test: 4182 \n",
      "Max_depth: 11, error train: 2, err_test: 5479 \n",
      "Max_depth: 12, error train: 0, err_test: 5564 \n",
      "Max_depth: 13, error train: 0, err_test: 5247 \n",
      "Max_depth: 14, error train: 0, err_test: 5506 \n",
      "Max_depth: 15, error train: 0, err_test: 5272 \n",
      "Max_depth: 16, error train: 0, err_test: 5734 \n",
      "Max_depth: 17, error train: 0, err_test: 5950 \n",
      "Max_depth: 18, error train: 0, err_test: 5950 \n",
      "Max_depth: 19, error train: 0, err_test: 5950 \n"
     ]
    }
   ],
   "source": [
    "# Зависимость MSE от глубины деревьев\n",
    "n_trees = 3\n",
    "err_train_list = []\n",
    "err_test_list = []\n",
    "max_depth_list = []\n",
    "# Шаг\n",
    "eta = 0.5\n",
    "for max_depth in range(1, 20 ):\n",
    "    # для простоты примем коэффициенты равными 1\n",
    "    coefs = [1] * n_trees\n",
    "    trees, train_errors, test_errors = gb_fit(n_trees, max_depth, X_train, X_test, y_train, y_test, coefs, eta)\n",
    "    err_train, err_test = evaluate_alg(X_train, X_test, y_train, y_test, trees, coefs, eta)\n",
    "    print(f'Max_depth: {max_depth}, error train: {err_train}, err_test: {err_test} ')\n",
    "    err_train_list.append(err_train)\n",
    "    err_test_list.append(err_test)\n",
    "    max_depth_list.append(max_depth)"
   ]
  },
  {
   "cell_type": "code",
   "execution_count": 29,
   "metadata": {},
   "outputs": [],
   "source": [
    "def get_error_plot(max_depth_list, err_train_list, err_test_list):\n",
    "    plt.xlabel('Number of trees')\n",
    "    plt.ylabel('MSE error')\n",
    "    #plt.xlim(0, 20)\n",
    "    #plt.ylim(0, )\n",
    "    plt.plot(max_depth_list, err_train_list, label='train error')\n",
    "    plt.plot(max_depth_list, err_test_list, label='test error')\n",
    "    plt.legend(loc='upper right')\n",
    "    plt.show()"
   ]
  },
  {
   "cell_type": "code",
   "execution_count": 30,
   "metadata": {},
   "outputs": [
    {
     "data": {
      "image/png": "[encoded data removed]",
      "text/plain": [
       "<Figure size 432x288 with 1 Axes>"
      ]
     },
     "metadata": {
      "needs_background": "light"
     },
     "output_type": "display_data"
    }
   ],
   "source": [
    "get_error_plot(max_depth_list, err_train_list, err_test_list)"
   ]
  },
  {
   "cell_type": "markdown",
   "metadata": {},
   "source": [
    "### Вывод: при увеличении глубины деревьев, ошибка на трейне падает и достигает нуля при глубине 8. На тесте ошибка растет и достигает максимума при 8. Чрезмерная глубина деревьев приводит к переобучению."
   ]
  },
  {
   "cell_type": "code",
   "execution_count": null,
   "metadata": {},
   "outputs": [],
   "source": []
  }
 ],
 "metadata": {
  "kernelspec": {
   "display_name": "Python 3",
   "language": "python",
   "name": "python3"
  },
  "language_info": {
   "codemirror_mode": {
    "name": "ipython",
    "version": 3
   },
   "file_extension": ".py",
   "mimetype": "text/x-python",
   "name": "python",
   "nbconvert_exporter": "python",
   "pygments_lexer": "ipython3",
   "version": "3.7.3"
  }
 },
 "nbformat": 4,
 "nbformat_minor": 2
}
